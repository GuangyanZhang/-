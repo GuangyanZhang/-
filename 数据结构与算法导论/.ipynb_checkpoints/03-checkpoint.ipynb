{
 "cells": [
  {
   "cell_type": "code",
   "execution_count": 17,
   "metadata": {},
   "outputs": [],
   "source": [
    "def int_cal(n):\n",
    "    i = 1\n",
    "    add_sum = 0\n",
    "    for i in range(1,n+1):\n",
    "        add_sum = add_sum+i\n",
    "    return add_sum"
   ]
  },
  {
   "cell_type": "code",
   "execution_count": 18,
   "metadata": {},
   "outputs": [
    {
     "data": {
      "text/plain": [
       "3"
      ]
     },
     "execution_count": 18,
     "metadata": {},
     "output_type": "execute_result"
    }
   ],
   "source": [
    "int_cal(2)"
   ]
  },
  {
   "cell_type": "markdown",
   "metadata": {},
   "source": [
    "假设每一行代码都执行时间为unit_time,第2，3，6执行一次，第4，5行运行了n次，所以时间复杂度为(2n+3)*unint_time"
   ]
  },
  {
   "cell_type": "code",
   "execution_count": 12,
   "metadata": {},
   "outputs": [],
   "source": [
    "def int_cal(n):\n",
    "    i = 1\n",
    "    add_sum = 0\n",
    "    j = 1\n",
    "    for i in range(1,n+1):\n",
    "        j = 1\n",
    "        for j in range(1,n+1):\n",
    "            add_sum = add_sum+i\n",
    "    #return add_sum"
   ]
  },
  {
   "cell_type": "code",
   "execution_count": 13,
   "metadata": {},
   "outputs": [],
   "source": [
    "int_cal(2)"
   ]
  },
  {
   "cell_type": "markdown",
   "metadata": {},
   "source": [
    "第2，3，4执行了一次，第5，6行执行了n次，第7，8行执行了n^2次，所以T(n)=（2n^2+2n+3）*unint_time"
   ]
  },
  {
   "cell_type": "markdown",
   "metadata": {},
   "source": [
    "# 所有代码的执行时间 T(n) 与每行代码的执行次数 n 成正"
   ]
  },
  {
   "cell_type": "code",
   "execution_count": 21,
   "metadata": {},
   "outputs": [],
   "source": [
    "def cal(n):\n",
    "    sum_1 = 0\n",
    "    for p in range(1,100):\n",
    "        sum_1 = sum_1+p\n",
    "    sum_2 = 0\n",
    "    for q in range(1,n+1):\n",
    "        sum_2 = sum_2+q\n",
    "    sum_3 = 0\n",
    "    for i in range(1,n+1):\n",
    "        for j in range(1,n+1):\n",
    "            sum_3 = sum_3+i*j\n",
    "    return sum_1+sum_2+sum_3"
   ]
  },
  {
   "cell_type": "code",
   "execution_count": 22,
   "metadata": {},
   "outputs": [
    {
     "data": {
      "text/plain": [
       "8030"
      ]
     },
     "execution_count": 22,
     "metadata": {},
     "output_type": "execute_result"
    }
   ],
   "source": [
    "cal(10)"
   ]
  },
  {
   "cell_type": "code",
   "execution_count": 27,
   "metadata": {},
   "outputs": [],
   "source": [
    "def f(n):\n",
    "    sum_1 = 0\n",
    "    for i in range(1,n+1):\n",
    "        sum_1 = sum_1+i\n",
    "    return sum_1"
   ]
  },
  {
   "cell_type": "code",
   "execution_count": 28,
   "metadata": {},
   "outputs": [],
   "source": [
    "def cal(n):\n",
    "    ret = 0\n",
    "    for i in range(1,n+1):\n",
    "        ret = ret +f(i)\n",
    "    return ret"
   ]
  },
  {
   "cell_type": "code",
   "execution_count": 29,
   "metadata": {},
   "outputs": [
    {
     "data": {
      "text/plain": [
       "220"
      ]
     },
     "execution_count": 29,
     "metadata": {},
     "output_type": "execute_result"
    }
   ],
   "source": [
    "cal(10)"
   ]
  },
  {
   "cell_type": "markdown",
   "metadata": {},
   "source": [
    "O(1)"
   ]
  },
  {
   "cell_type": "code",
   "execution_count": 31,
   "metadata": {},
   "outputs": [
    {
     "name": "stdout",
     "output_type": "stream",
     "text": [
      "14\n"
     ]
    }
   ],
   "source": [
    "i = 8\n",
    "j = 6\n",
    "print(i+j)"
   ]
  },
  {
   "cell_type": "markdown",
   "metadata": {},
   "source": [
    "O(logn)、O(nlogn)"
   ]
  },
  {
   "cell_type": "code",
   "execution_count": null,
   "metadata": {},
   "outputs": [],
   "source": [
    "def cal(n):\n",
    "    i=1\n",
    "    while(i<=n):\n",
    "        i = i*2\n",
    "    return i"
   ]
  }
 ],
 "metadata": {
  "kernelspec": {
   "display_name": "Python 3",
   "language": "python",
   "name": "python3"
  },
  "language_info": {
   "codemirror_mode": {
    "name": "ipython",
    "version": 3
   },
   "file_extension": ".py",
   "mimetype": "text/x-python",
   "name": "python",
   "nbconvert_exporter": "python",
   "pygments_lexer": "ipython3",
   "version": "3.6.4"
  }
 },
 "nbformat": 4,
 "nbformat_minor": 2
}
